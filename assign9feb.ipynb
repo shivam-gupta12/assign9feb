{
 "cells": [
  {
   "cell_type": "code",
   "execution_count": 2,
   "id": "17d4affa-af44-4ec3-9600-c456bee16bcc",
   "metadata": {},
   "outputs": [],
   "source": [
    "#question 1\n",
    "\n",
    "class Vehicle:\n",
    "    \n",
    "    def __init__(self, name_of_vehicle, max_speed, average_of_vehicle):\n",
    "        self.name_of_vehicle = name_of_vehicle\n",
    "        self.max_speed = max_speed\n",
    "        self.average_of_vehicle = average_of_vehicle\n",
    "        "
   ]
  },
  {
   "cell_type": "code",
   "execution_count": 18,
   "id": "073194ae-0f6f-477a-b4ab-9a63f3b850b1",
   "metadata": {},
   "outputs": [],
   "source": [
    "#question 2\n",
    "class car(Vehicle):\n",
    "    \n",
    "    def seating_capacity(self, capacity):\n",
    "        self.capacity = capacity\n",
    "        return (\"The name of the vehicle is: \", self.name_of_vehicle ,\" and seating capacity of the vehicle is: \\n\" ,self.capacity)\n"
   ]
  },
  {
   "cell_type": "code",
   "execution_count": 19,
   "id": "c1beb42c-27d9-4737-9407-2d2a88ad9f0c",
   "metadata": {},
   "outputs": [
    {
     "data": {
      "text/plain": [
       "('The name of the vehicle is: ',\n",
       " 'Innova',\n",
       " ' and seating capacity of the vehicle is: \\n',\n",
       " 6)"
      ]
     },
     "execution_count": 19,
     "metadata": {},
     "output_type": "execute_result"
    }
   ],
   "source": [
    "c = car(\"Innova\", 300, 23)\n",
    "c.seating_capacity(6)"
   ]
  },
  {
   "cell_type": "code",
   "execution_count": 20,
   "id": "17045c99-67ba-4f3f-ad82-ca5643b7fd9f",
   "metadata": {},
   "outputs": [],
   "source": [
    "#question 3\n",
    "#multiple inheritance- \n",
    "#Multiple inheritance is a feature of some object-oriented computer programming languages in which an object or class can inherit features from more than one parent object or parent class.\n",
    "\n",
    "class class1:\n",
    "    \n",
    "    def test_class1(self):\n",
    "        return \"this is a class 1\"\n",
    "\n",
    "class class2 :\n",
    "    def test_class2(self):\n",
    "        return \"this is a class 2\"\n",
    "    \n",
    "class class3(class1, class2):      #class3 is inherited from both class1 and class2\n",
    "    pass"
   ]
  },
  {
   "cell_type": "code",
   "execution_count": 22,
   "id": "d3eb6013-7819-49c9-ac7c-e0ae9ae3db26",
   "metadata": {},
   "outputs": [],
   "source": [
    "#question 4\n",
    "#Getters: These are the methods used in Object-Oriented Programming (OOPS) which helps to access the private attributes from a class. \n",
    "#Setters: These are the methods used in OOPS feature which helps to set the value to private attributes in a class.\n",
    "\n",
    "class car :\n",
    "    \n",
    "    def __init__(self, year, make, model, speed):\n",
    "        self.__year = year\n",
    "        self.__make = make\n",
    "        self.__model = model\n",
    "        self.__speed = 0\n",
    "        \n",
    "    #GIVING USER THE PRIVILEGE OF ACCESSING THESE PRIVATE OBJECTS\n",
    "    def set_speed(self,speed):\n",
    "        self.__speed = 0 if speed<0 else speed\n",
    "    \n",
    "    def get_speed(self):\n",
    "        return self.__speed"
   ]
  },
  {
   "cell_type": "code",
   "execution_count": 1,
   "id": "4743e47b-b0b2-40ee-be08-445b9668458f",
   "metadata": {},
   "outputs": [
    {
     "name": "stdout",
     "output_type": "stream",
     "text": [
      "Inside Parent\n",
      "Inside Child\n"
     ]
    }
   ],
   "source": [
    "#question5\n",
    "#Method overriding is an ability of any object-oriented programming language \n",
    "#that allows a subclass or child class to provide a specific implementation of a method that is already provided by one of its super-classes or parent classes. \n",
    "#When a method in a subclass has the same name, same parameters or signature and same return type(or sub-type) as a method in its super-class, \n",
    "#then the method in the subclass is said to override the method in the super-class.\n",
    "\n",
    "class Parent():\n",
    "      \n",
    "    # Constructor\n",
    "    def __init__(self):\n",
    "        self.value = \"Inside Parent\"\n",
    "          \n",
    "    # Parent's show method\n",
    "    def show(self):\n",
    "        print(self.value)\n",
    "          \n",
    "class Child(Parent):\n",
    "      \n",
    "    # Constructor\n",
    "    def __init__(self):\n",
    "        self.value = \"Inside Child\"\n",
    "          \n",
    "    # Child's show method\n",
    "    def show(self):\n",
    "        print(self.value)\n",
    "        \n",
    "obj1 = Parent()\n",
    "obj2 = Child()\n",
    "  \n",
    "obj1.show()\n",
    "obj2.show()"
   ]
  },
  {
   "cell_type": "code",
   "execution_count": null,
   "id": "b5ab63f5-a99f-46ef-9f65-907422816ae1",
   "metadata": {},
   "outputs": [],
   "source": []
  }
 ],
 "metadata": {
  "kernelspec": {
   "display_name": "Python 3 (ipykernel)",
   "language": "python",
   "name": "python3"
  },
  "language_info": {
   "codemirror_mode": {
    "name": "ipython",
    "version": 3
   },
   "file_extension": ".py",
   "mimetype": "text/x-python",
   "name": "python",
   "nbconvert_exporter": "python",
   "pygments_lexer": "ipython3",
   "version": "3.10.8"
  }
 },
 "nbformat": 4,
 "nbformat_minor": 5
}
